{
  "nbformat": 4,
  "nbformat_minor": 0,
  "metadata": {
    "colab": {
      "provenance": [],
      "authorship_tag": "ABX9TyOAb00v2gYRV+B8k5KTJLvJ",
      "include_colab_link": true
    },
    "kernelspec": {
      "name": "python3",
      "display_name": "Python 3"
    },
    "language_info": {
      "name": "python"
    }
  },
  "cells": [
    {
      "cell_type": "markdown",
      "metadata": {
        "id": "view-in-github",
        "colab_type": "text"
      },
      "source": [
        "<a href=\"https://colab.research.google.com/github/josh-ashkinaze/chatbot_arena/blob/main/ModelNames.ipynb\" target=\"_parent\"><img src=\"https://colab.research.google.com/assets/colab-badge.svg\" alt=\"Open In Colab\"/></a>"
      ]
    },
    {
      "cell_type": "code",
      "execution_count": 2,
      "metadata": {
        "colab": {
          "base_uri": "https://localhost:8080/"
        },
        "id": "DM89J0mwIlH9",
        "outputId": "37b8a134-1919-4c28-e6cd-6fe9bc7603d9"
      },
      "outputs": [
        {
          "output_type": "stream",
          "name": "stderr",
          "text": [
            "Downloading...\n",
            "From (original): https://drive.google.com/uc?id=1Kpg6HD1QCrytCVT7FgRvZhY885TnmpEo\n",
            "From (redirected): https://drive.google.com/uc?id=1Kpg6HD1QCrytCVT7FgRvZhY885TnmpEo&confirm=t&uuid=8c67039a-b31c-431b-95f9-297f87793e32\n",
            "To: /content/clean_battle_20240313.json\n",
            "100%|██████████| 125M/125M [00:00<00:00, 229MB/s]\n"
          ]
        }
      ],
      "source": [
        "import pandas as pd\n",
        "import numpy as np\n",
        "\n",
        "import gdown\n",
        "\n",
        "url = \"https://drive.google.com/file/d/1Kpg6HD1QCrytCVT7FgRvZhY885TnmpEo/view?usp=sharing\"\n",
        "filename = gdown.download(url, fuzzy=True)"
      ]
    },
    {
      "cell_type": "code",
      "source": [
        "df = pd.read_json(filename)\n",
        "model_a_names = list(df['model_a'].unique())\n",
        "model_b_names = list(df['model_b'].unique())\n",
        "all_models = list(set(model_a_names + model_b_names))\n",
        "\n",
        "print(all_models)\n"
      ],
      "metadata": {
        "colab": {
          "base_uri": "https://localhost:8080/"
        },
        "id": "IdCXUDyvIn7u",
        "outputId": "4ead5a2a-0087-4f0d-ee09-938f4eb1c04f"
      },
      "execution_count": 6,
      "outputs": [
        {
          "output_type": "stream",
          "name": "stdout",
          "text": [
            "['vicuna-13b', 'gpt-3.5-turbo-0314', 'RWKV-4-Raven-14B', 'vicuna-33b', 'gpt-3.5-turbo-0613', 'openchat-3.5', 'chatglm-6b', 'claude-instant-1', 'tulu-2-dpo-70b', 'gemini-pro', 'alpaca-13b', 'gemini-pro-dev-api', 'bard-jan-24-gemini-pro', 'mistral-large-2402', 'mistral-7b-instruct', 'wizardlm-13b', 'gpt-4-0613', 'llama-2-13b-chat', 'llama-2-70b-chat', 'gpt4all-13b-snoozy', 'yi-34b-chat', 'gemma-7b-it', 'oasst-pythia-12b', 'olmo-7b-instruct', 'stripedhyena-nous-7b', 'deepseek-llm-67b-chat', 'claude-3-opus-20240229', 'claude-2.1', 'gpt-4-0314', 'chatglm3-6b', 'pplx-70b-online', 'chatglm2-6b', 'openhermes-2.5-mistral-7b', 'llama-13b', 'gpt-4-1106-preview', 'zephyr-7b-alpha', 'gpt-4-0125-preview', 'palm-2', 'dolly-v2-12b', 'qwen-14b-chat', 'gpt-3.5-turbo-0125', 'mistral-7b-instruct-v0.2', 'qwen1.5-4b-chat', 'pplx-7b-online', 'llama2-70b-steerlm-chat', 'mixtral-8x7b-instruct-v0.1', 'falcon-180b-chat', 'claude-1', 'fastchat-t5-3b', 'mistral-medium', 'qwen1.5-72b-chat', 'vicuna-7b', 'codellama-34b-instruct', 'mpt-7b-chat', 'zephyr-7b-beta', 'koala-13b', 'mistral-next', 'stablelm-tuned-alpha-7b', 'gemma-2b-it', 'codellama-70b-instruct', 'mpt-30b-chat', 'claude-2.0', 'wizardlm-70b', 'qwen1.5-7b-chat', 'openchat-3.5-0106', 'solar-10.7b-instruct-v1.0', 'llama-2-7b-chat', 'claude-3-sonnet-20240229', 'guanaco-33b', 'nous-hermes-2-mixtral-8x7b-dpo', 'starling-lm-7b-alpha', 'gpt-3.5-turbo-1106', 'dolphin-2.2.1-mistral-7b']\n"
          ]
        }
      ]
    }
  ]
}