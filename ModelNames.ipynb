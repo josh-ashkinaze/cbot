{
 "cells": [
  {
   "cell_type": "markdown",
   "metadata": {
    "colab_type": "text",
    "id": "view-in-github"
   },
   "source": [
    "<a href=\"https://colab.research.google.com/github/josh-ashkinaze/chatbot_arena/blob/main/ModelNames.ipynb\" target=\"_parent\"><img src=\"https://colab.research.google.com/assets/colab-badge.svg\" alt=\"Open In Colab\"/></a>"
   ]
  },
  {
   "cell_type": "code",
   "execution_count": 9,
   "metadata": {
    "colab": {
     "base_uri": "https://localhost:8080/"
    },
    "id": "DM89J0mwIlH9",
    "outputId": "37b8a134-1919-4c28-e6cd-6fe9bc7603d9"
   },
   "outputs": [
    {
     "name": "stdout",
     "output_type": "stream",
     "text": [
      "reading in\n"
     ]
    }
   ],
   "source": [
    "\"\"\"\n",
    "Author: Joshua Ashkinaze\n",
    "\n",
    "Gets a list of model names and downloads the battles file\n",
    "\n",
    "Date: 2024-03-19\n",
    "\"\"\"\n",
    "\n",
    "import pandas as pd\n",
    "import numpy as np\n",
    "import gdown\n",
    "import os \n",
    "\n",
    "if __name__ == \"__main__\":\n",
    "    if not os.path.exists(\"clean_battle_20240313.json\"):\n",
    "        print(\"Downloading\")\n",
    "        url = \"https://drive.google.com/file/d/1Kpg6HD1QCrytCVT7FgRvZhY885TnmpEo/view?usp=sharing\"\n",
    "        filename = gdown.download(url, fuzzy=True)\n",
    "    else:\n",
    "        print(\"reading in\")\n",
    "        df = pd.read_json(filename)\n",
    "    \n",
    "    df = pd.read_json(filename)\n",
    "    model_a_names = list(df['model_a'].unique())\n",
    "    model_b_names = list(df['model_b'].unique())\n",
    "    all_models = list(set(model_a_names + model_b_names))\n",
    "    model_df = pd.DataFrame(all_models)\n",
    "    model_df.columns = ['long_name']\n",
    "    model_df.to_csv(\"model_names.csv\") # download model names to annotate later \n",
    "main()"
   ]
  },
  {
   "cell_type": "code",
   "execution_count": null,
   "metadata": {},
   "outputs": [],
   "source": []
  }
 ],
 "metadata": {
  "colab": {
   "authorship_tag": "ABX9TyOAb00v2gYRV+B8k5KTJLvJ",
   "include_colab_link": true,
   "provenance": []
  },
  "kernelspec": {
   "display_name": "Python 3 (ipykernel)",
   "language": "python",
   "name": "python3"
  },
  "language_info": {
   "codemirror_mode": {
    "name": "ipython",
    "version": 3
   },
   "file_extension": ".py",
   "mimetype": "text/x-python",
   "name": "python",
   "nbconvert_exporter": "python",
   "pygments_lexer": "ipython3",
   "version": "3.12.0"
  }
 },
 "nbformat": 4,
 "nbformat_minor": 4
}
